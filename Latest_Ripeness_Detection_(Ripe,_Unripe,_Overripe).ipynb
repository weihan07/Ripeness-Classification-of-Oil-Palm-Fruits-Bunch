{
  "nbformat": 4,
  "nbformat_minor": 0,
  "metadata": {
    "colab": {
      "provenance": []
    },
    "kernelspec": {
      "name": "python3",
      "display_name": "Python 3"
    },
    "language_info": {
      "name": "python"
    }
  },
  "cells": [
    {
      "cell_type": "markdown",
      "source": [
        "# Classify the pics into different stages and download it in zip file. (16 Apr)"
      ],
      "metadata": {
        "id": "aEymNW3J7ibn"
      }
    },
    {
      "cell_type": "code",
      "source": [
        "from google.colab import drive\n",
        "drive.mount('/content/drive')"
      ],
      "metadata": {
        "id": "8LOGc4nYMpXk",
        "colab": {
          "base_uri": "https://localhost:8080/"
        },
        "outputId": "b226d0e4-51f1-4f2b-8700-49b7dba31387"
      },
      "execution_count": null,
      "outputs": [
        {
          "output_type": "stream",
          "name": "stdout",
          "text": [
            "Drive already mounted at /content/drive; to attempt to forcibly remount, call drive.mount(\"/content/drive\", force_remount=True).\n"
          ]
        }
      ]
    },
    {
      "cell_type": "code",
      "source": [
        "from keras.models import load_model\n",
        "from PIL import Image, ImageOps\n",
        "import numpy as np\n",
        "import os\n",
        "from google.colab import files\n",
        "import shutil\n",
        "\n",
        "# Define model constants\n",
        "MODEL_PATH = \"/content/drive/MyDrive/Colab Notebooks/DSP/22 Apr/keras_model.h5\"\n",
        "LABEL_PATH = \"/content/drive/MyDrive/Colab Notebooks/DSP/22 Apr/labels.txt\"\n",
        "INPUT_IMAGE_FOLDER = \"/content/drive/MyDrive/Colab Notebooks/DSP/22 Apr/input\"\n",
        "OUTPUT_IMAGE_FOLDER = \"/content/drive/MyDrive/Colab Notebooks/DSP/22 Apr/output\"\n",
        "NOT_SURE_CLASS = \"NotSure\"\n",
        "NOT_SURE_THRESHOLD = 0.4\n",
        "\n",
        "# Load the model\n",
        "def load_keras_model(model_path):\n",
        "    return load_model(model_path, compile=False)\n",
        "\n",
        "# Load the labels\n",
        "def load_class_names(label_path):\n",
        "    return open(label_path, \"r\").readlines()\n",
        "\n",
        "# Preprocess an image\n",
        "def preprocess_image(image_path):\n",
        "    size = (224, 224)\n",
        "    # Replace this with the path to your image\n",
        "    image = Image.open(image_path).convert(\"RGB\")\n",
        "    # resizing the image to be at least 224x224 and then cropping from the center\n",
        "    image = ImageOps.fit(image, size, Image.Resampling.LANCZOS)\n",
        "    # turn the image into a numpy array\n",
        "    image_array = np.asarray(image)\n",
        "    # Normalize the image\n",
        "    normalized_image_array = (image_array.astype(np.float32) / 127.5) - 1\n",
        "    return normalized_image_array\n",
        "\n",
        "# Predict the class of an image\n",
        "def predict_class(model, data, class_names, not_sure_threshold, not_sure_class):\n",
        "    prediction = model.predict(data)\n",
        "    index = np.argmax(prediction)\n",
        "    confidence_score = prediction[0][index]\n",
        "    class_name = (\n",
        "        not_sure_class\n",
        "        if confidence_score < not_sure_threshold\n",
        "        else class_names[index][2:-1]\n",
        "    )\n",
        "    return class_name, confidence_score\n",
        "\n",
        "# Organize and move images\n",
        "def organize_images(input_folder, output_folder, class_name, filename, processed_images, total_images, confidence_score):\n",
        "    output_folder = os.path.join(output_folder, class_name)\n",
        "    if not os.path.exists(output_folder):\n",
        "        os.makedirs(output_folder)\n",
        "\n",
        "    # Create the new filename with the required details\n",
        "    new_filename = f\"{processed_images} of {total_images}_{class_name}_{confidence_score:.4f}{os.path.splitext(filename)[1]}\"\n",
        "    new_path = os.path.join(output_folder, new_filename)\n",
        "\n",
        "    os.rename(os.path.join(input_folder, filename), new_path)\n",
        "\n",
        "# Main function\n",
        "def main():\n",
        "    model = load_keras_model(MODEL_PATH)\n",
        "    class_names = load_class_names(LABEL_PATH)\n",
        "    total_images = len(os.listdir(INPUT_IMAGE_FOLDER))\n",
        "    processed_images = 0\n",
        "\n",
        "    for filename in os.listdir(INPUT_IMAGE_FOLDER):\n",
        "        filename_lower = filename.lower()\n",
        "\n",
        "        if not (\n",
        "            filename_lower.endswith(\".jpg\")\n",
        "            or filename_lower.endswith(\".jpeg\")\n",
        "            or filename_lower.endswith(\".png\")\n",
        "        ):\n",
        "            print(f\"Skipping: {filename}\")\n",
        "            continue\n",
        "\n",
        "        data = np.ndarray(shape=(1, 224, 224, 3), dtype=np.float32)\n",
        "        image_path = os.path.join(INPUT_IMAGE_FOLDER, filename)\n",
        "        normalized_image_array = preprocess_image(image_path)\n",
        "\n",
        "        data[0] = normalized_image_array\n",
        "\n",
        "        class_name, confidence_score = predict_class(\n",
        "            model, data, class_names, NOT_SURE_THRESHOLD, NOT_SURE_CLASS\n",
        "        )\n",
        "\n",
        "        processed_images += 1\n",
        "        print(f\"Image {processed_images}/{total_images}: {filename}   --->  class: {class_name},      score: {confidence_score}\")\n",
        "\n",
        "        organize_images(INPUT_IMAGE_FOLDER, OUTPUT_IMAGE_FOLDER, class_name, filename, processed_images, total_images, confidence_score)\n",
        "\n",
        "    # Once output is generated, download the OUTPUT_IMAGE_FOLDER to local drive\n",
        "    shutil.make_archive(\"/content/output_images\", 'zip', OUTPUT_IMAGE_FOLDER)\n",
        "    files.download(\"/content/output_images.zip\")\n",
        "\n",
        "if __name__ == \"__main__\":\n",
        "    main()\n"
      ],
      "metadata": {
        "colab": {
          "base_uri": "https://localhost:8080/",
          "height": 1000
        },
        "id": "xWm7W3gs5HcX",
        "outputId": "43fe1737-9dbf-466e-816c-340af1fa4b20"
      },
      "execution_count": null,
      "outputs": [
        {
          "output_type": "stream",
          "name": "stdout",
          "text": [
            "1/1 [==============================] - 2s 2s/step\n",
            "Image 1/30: IMG_1141.JPEG   --->  class: Unripe,      score: 0.9995187520980835\n",
            "1/1 [==============================] - 0s 67ms/step\n",
            "Image 2/30: TestRipe(15).jpg   --->  class: Ripe,      score: 0.6305958032608032\n",
            "1/1 [==============================] - 0s 74ms/step\n",
            "Image 3/30: TestOverripe(5).jpg   --->  class: Overripe,      score: 0.6750116348266602\n",
            "1/1 [==============================] - 0s 46ms/step\n",
            "Image 4/30: TestOverripe(4).jpg   --->  class: Overripe,      score: 0.8232879042625427\n",
            "1/1 [==============================] - 0s 41ms/step\n",
            "Image 5/30: TestRipe(41).jpg   --->  class: Ripe,      score: 0.9996308088302612\n",
            "1/1 [==============================] - 0s 41ms/step\n",
            "Image 6/30: TestRipe(40).jpg   --->  class: Ripe,      score: 0.9908457398414612\n",
            "1/1 [==============================] - 0s 45ms/step\n",
            "Image 7/30: WhatsApp Image 2024-05-13 at 11.00.39_33dfc26d.jpg   --->  class: Ripe,      score: 0.9995604157447815\n",
            "1/1 [==============================] - 0s 47ms/step\n",
            "Image 8/30: TestRipe(10).jpg   --->  class: Unripe,      score: 0.5421643257141113\n",
            "1/1 [==============================] - 0s 44ms/step\n",
            "Image 9/30: TestRipe(29).jpg   --->  class: Ripe,      score: 0.9988117218017578\n",
            "1/1 [==============================] - 0s 65ms/step\n",
            "Image 10/30: TestRipe(36).jpg   --->  class: Unripe,      score: 0.7737810611724854\n",
            "1/1 [==============================] - 0s 59ms/step\n",
            "Image 11/30: TestRipe(4).jpg   --->  class: Ripe,      score: 0.8111408948898315\n",
            "1/1 [==============================] - 0s 59ms/step\n",
            "Image 12/30: TestRipe(37).jpg   --->  class: Ripe,      score: 0.9920672178268433\n",
            "1/1 [==============================] - 0s 49ms/step\n",
            "Image 13/30: IMG_1234.JPG   --->  class: Unripe,      score: 0.9940804839134216\n",
            "1/1 [==============================] - 0s 52ms/step\n",
            "Image 14/30: TestRipe(24).jpg   --->  class: Ripe,      score: 0.9920088052749634\n",
            "1/1 [==============================] - 0s 38ms/step\n",
            "Image 15/30: IMG_1233.JPG   --->  class: Unripe,      score: 0.9771186113357544\n",
            "1/1 [==============================] - 0s 37ms/step\n",
            "Image 16/30: TestOverripe(7).jpg   --->  class: Overripe,      score: 0.8988358974456787\n",
            "1/1 [==============================] - 0s 43ms/step\n",
            "Image 17/30: TestOverripe(14).jpg   --->  class: Overripe,      score: 0.6379804611206055\n",
            "1/1 [==============================] - 0s 52ms/step\n",
            "Image 18/30: IMG_1185.JPG   --->  class: Unripe,      score: 0.999923825263977\n",
            "1/1 [==============================] - 0s 44ms/step\n",
            "Image 19/30: IMG_1236.JPG   --->  class: Unripe,      score: 0.9996529817581177\n",
            "1/1 [==============================] - 0s 50ms/step\n",
            "Image 20/30: IMG_1205.JPG   --->  class: Unripe,      score: 0.9990707635879517\n",
            "1/1 [==============================] - 0s 50ms/step\n",
            "Image 21/30: IMG_1195.JPG   --->  class: Unripe,      score: 0.9916852712631226\n",
            "1/1 [==============================] - 0s 54ms/step\n",
            "Image 22/30: IMG_1187.JPG   --->  class: Unripe,      score: 0.9998458623886108\n",
            "1/1 [==============================] - 0s 52ms/step\n",
            "Image 23/30: TestOverripe(12).jpg   --->  class: Unripe,      score: 0.6975281238555908\n",
            "1/1 [==============================] - 0s 62ms/step\n",
            "Image 24/30: IMG_1237.JPG   --->  class: Unripe,      score: 0.9997585415840149\n",
            "1/1 [==============================] - 0s 73ms/step\n",
            "Image 25/30: IMG_1209.JPG   --->  class: Unripe,      score: 0.9151274561882019\n",
            "1/1 [==============================] - 0s 65ms/step\n",
            "Image 26/30: WhatsApp Image 2024-05-13 at 11.00.39_5222c7d3.jpg   --->  class: Ripe,      score: 0.5793125033378601\n",
            "1/1 [==============================] - 0s 56ms/step\n",
            "Image 27/30: TestUnripe(31).jpg   --->  class: Unripe,      score: 0.9998204112052917\n",
            "1/1 [==============================] - 0s 64ms/step\n",
            "Image 28/30: TestUnripe(27).jpg   --->  class: Unripe,      score: 0.9998923540115356\n",
            "1/1 [==============================] - 0s 72ms/step\n",
            "Image 29/30: TestUnripe(21).jpg   --->  class: Unripe,      score: 0.993308424949646\n",
            "1/1 [==============================] - 0s 42ms/step\n",
            "Image 30/30: TestRipe(16).JPG   --->  class: Ripe,      score: 0.9012367725372314\n"
          ]
        },
        {
          "output_type": "display_data",
          "data": {
            "text/plain": [
              "<IPython.core.display.Javascript object>"
            ],
            "application/javascript": [
              "\n",
              "    async function download(id, filename, size) {\n",
              "      if (!google.colab.kernel.accessAllowed) {\n",
              "        return;\n",
              "      }\n",
              "      const div = document.createElement('div');\n",
              "      const label = document.createElement('label');\n",
              "      label.textContent = `Downloading \"${filename}\": `;\n",
              "      div.appendChild(label);\n",
              "      const progress = document.createElement('progress');\n",
              "      progress.max = size;\n",
              "      div.appendChild(progress);\n",
              "      document.body.appendChild(div);\n",
              "\n",
              "      const buffers = [];\n",
              "      let downloaded = 0;\n",
              "\n",
              "      const channel = await google.colab.kernel.comms.open(id);\n",
              "      // Send a message to notify the kernel that we're ready.\n",
              "      channel.send({})\n",
              "\n",
              "      for await (const message of channel.messages) {\n",
              "        // Send a message to notify the kernel that we're ready.\n",
              "        channel.send({})\n",
              "        if (message.buffers) {\n",
              "          for (const buffer of message.buffers) {\n",
              "            buffers.push(buffer);\n",
              "            downloaded += buffer.byteLength;\n",
              "            progress.value = downloaded;\n",
              "          }\n",
              "        }\n",
              "      }\n",
              "      const blob = new Blob(buffers, {type: 'application/binary'});\n",
              "      const a = document.createElement('a');\n",
              "      a.href = window.URL.createObjectURL(blob);\n",
              "      a.download = filename;\n",
              "      div.appendChild(a);\n",
              "      a.click();\n",
              "      div.remove();\n",
              "    }\n",
              "  "
            ]
          },
          "metadata": {}
        },
        {
          "output_type": "display_data",
          "data": {
            "text/plain": [
              "<IPython.core.display.Javascript object>"
            ],
            "application/javascript": [
              "download(\"download_ff88e32c-5f3a-497c-b800-6d4373fb820a\", \"output_images.zip\", 75401852)"
            ]
          },
          "metadata": {}
        }
      ]
    },
    {
      "cell_type": "code",
      "source": [
        "from keras.models import load_model\n",
        "\n",
        "# Define model constants\n",
        "MODEL_PATH = \"/content/drive/MyDrive/Colab Notebooks/DSP/22 Apr/keras_model.h5\"\n",
        "\n",
        "# Load the model\n",
        "model = load_model(MODEL_PATH, compile=False)\n",
        "\n",
        "# Print the model summary\n",
        "model.summary()"
      ],
      "metadata": {
        "id": "Z-KNAoJTKH5J",
        "outputId": "15cfccd4-fe4b-4316-df47-42aab512e721",
        "colab": {
          "base_uri": "https://localhost:8080/"
        }
      },
      "execution_count": null,
      "outputs": [
        {
          "output_type": "stream",
          "name": "stdout",
          "text": [
            "Model: \"sequential_72\"\n",
            "_________________________________________________________________\n",
            " Layer (type)                Output Shape              Param #   \n",
            "=================================================================\n",
            " sequential_69 (Sequential)  (None, 1280)              410208    \n",
            "                                                                 \n",
            " sequential_71 (Sequential)  (None, 3)                 128400    \n",
            "                                                                 \n",
            "=================================================================\n",
            "Total params: 538608 (2.05 MB)\n",
            "Trainable params: 524528 (2.00 MB)\n",
            "Non-trainable params: 14080 (55.00 KB)\n",
            "_________________________________________________________________\n"
          ]
        }
      ]
    },
    {
      "cell_type": "code",
      "source": [
        "from sklearn.metrics import classification_report\n",
        "import numpy as np\n",
        "\n",
        "# Define the confusion matrix\n",
        "confusion_matrix = np.array([[80, 2, 1],\n",
        "                             [1, 44, 0],\n",
        "                             [0, 0, 72]])\n",
        "\n",
        "# Create the true and predicted labels based on the confusion matrix\n",
        "true_labels = []\n",
        "pred_labels = []\n",
        "\n",
        "for i, row in enumerate(confusion_matrix):\n",
        "    for j, count in enumerate(row):\n",
        "        true_labels.extend([i] * count)\n",
        "        pred_labels.extend([j] * count)\n",
        "\n",
        "# Define the target class labels\n",
        "target_names = ['Ripe', 'Unripe', 'Overripe']\n",
        "\n",
        "# Compute the classification report\n",
        "report = classification_report(true_labels, pred_labels, target_names=target_names)\n",
        "\n",
        "print(report)\n"
      ],
      "metadata": {
        "colab": {
          "base_uri": "https://localhost:8080/"
        },
        "id": "9ogiEaZe5Q9d",
        "outputId": "e9f6bbda-d057-46c2-d1b5-49c45bc99d5a"
      },
      "execution_count": null,
      "outputs": [
        {
          "output_type": "stream",
          "name": "stdout",
          "text": [
            "              precision    recall  f1-score   support\n",
            "\n",
            "        Ripe       0.99      0.96      0.98        83\n",
            "      Unripe       0.96      0.98      0.97        45\n",
            "    Overripe       0.99      1.00      0.99        72\n",
            "\n",
            "    accuracy                           0.98       200\n",
            "   macro avg       0.98      0.98      0.98       200\n",
            "weighted avg       0.98      0.98      0.98       200\n",
            "\n"
          ]
        }
      ]
    }
  ]
}